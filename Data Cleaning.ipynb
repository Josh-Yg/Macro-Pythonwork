{
 "cells": [
  {
   "cell_type": "markdown",
   "metadata": {},
   "source": [
    "# Data Cleaning for EC1B1"
   ]
  },
  {
   "cell_type": "code",
   "execution_count": null,
   "metadata": {},
   "outputs": [],
   "source": [
    "# pip install openpyxl is used to install a module that allows us to read excel files into jupyter "
   ]
  },
  {
   "cell_type": "code",
   "execution_count": null,
   "metadata": {},
   "outputs": [],
   "source": [
    "pip install openpyxl\n"
   ]
  },
  {
   "cell_type": "code",
   "execution_count": null,
   "metadata": {},
   "outputs": [],
   "source": [
    "# Installing modules for plotting graphs, pandas for the dataframe,numpy for data analsysis, \n",
    "# json in case I need it.\n",
    "import matplotlib.pyplot as plt\n",
    "import pandas as pd \n",
    "import numpy as np \n",
    "import json \n"
   ]
  },
  {
   "cell_type": "code",
   "execution_count": 60,
   "metadata": {},
   "outputs": [],
   "source": [
    "# use pd.read_excel() function to import excel files containing raw data from IFS into \n",
    "# pandas dataframes in the jupyter notebook.\n",
    "# Stored in separate variables for each of the dataframes: US data and Spain data (our country)\n",
    "df_US = pd.read_excel('../US.xlsx')\n",
    "df_Spain = pd.read_excel('../Spain.xlsm')\n"
   ]
  },
  {
   "cell_type": "code",
   "execution_count": null,
   "metadata": {},
   "outputs": [],
   "source": [
    "# Renaming columns of the dataframe for the US.\n",
    "df_US = df_US.rename(columns={'Unnamed: 1': 'Month series', 'Unnamed: 2':'International Reserves',\\\n",
    "                               'Unnamed: 3': 'Consumer Price Index'})\n",
    "df_US"
   ]
  },
  {
   "cell_type": "code",
   "execution_count": null,
   "metadata": {},
   "outputs": [],
   "source": [
    "# Renaming columns of the dataframe for Spain \n",
    "df_Spain = df_Spain.rename(columns = {'Unnamed: 1': 'Month series', 'Unnamed: 2': 'Industrial Production Index',\\\n",
    "'Unnamed: 3': 'Exchange Rates', 'Unnamed: 4': 'International Reserves', 'Unnamed: 5': 'Consumer Price Index' })\n",
    "df_Spain"
   ]
  },
  {
   "cell_type": "code",
   "execution_count": 54,
   "metadata": {},
   "outputs": [],
   "source": [
    "# This creates a merged dataframe that concatenates and puts Spain on top of the US dataframe\n",
    "merged_df = pd.concat([df_Spain, df_US], ignore_index=True)"
   ]
  },
  {
   "cell_type": "markdown",
   "metadata": {},
   "source": [
    "This is where we print out our merged dataframe in full "
   ]
  },
  {
   "cell_type": "code",
   "execution_count": null,
   "metadata": {},
   "outputs": [],
   "source": [
    "# Already used a line of code merged_df = merged_df.drop(373) to delete redundant row of headers for the US data\n",
    "# Used the pd.set_option in order to display all 746 rows of the merged dataframe\n",
    "# In the merged dataframe, there is no data for the year of 1960 in Spain, there is no data at all in the first 12 months\n",
    "# Therefore, this makes interpolating the data very difficult here and we have left it blank \n",
    "# Filled in all the NaN values with '' to make it look nicer.\n",
    "# Empty columns for the US data is because we only have 2 columns of data - international reserves and CPI per the coursework instructions.\n",
    "# Any outliers were defined as being +- 3 standard deviations away from the mean of the series\n",
    "pd.set_option('display.max_rows', 746)\n",
    "merged_df = merged_df.fillna('')\n",
    "merged_df"
   ]
  },
  {
   "cell_type": "code",
   "execution_count": null,
   "metadata": {},
   "outputs": [],
   "source": []
  }
 ],
 "metadata": {
  "kernelspec": {
   "display_name": "Python 3",
   "language": "python",
   "name": "python3"
  },
  "language_info": {
   "codemirror_mode": {
    "name": "ipython",
    "version": 3
   },
   "file_extension": ".py",
   "mimetype": "text/x-python",
   "name": "python",
   "nbconvert_exporter": "python",
   "pygments_lexer": "ipython3",
   "version": "3.12.1"
  }
 },
 "nbformat": 4,
 "nbformat_minor": 2
}
