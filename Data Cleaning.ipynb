{
 "cells": [
  {
   "cell_type": "markdown",
   "metadata": {},
   "source": [
    "# Data Cleaning for EC1B1"
   ]
  },
  {
   "cell_type": "code",
   "execution_count": null,
   "metadata": {},
   "outputs": [],
   "source": [
    "# pip install openpyxl is used to install a module that allows us to read excel files into jupyter "
   ]
  },
  {
   "cell_type": "code",
   "execution_count": null,
   "metadata": {},
   "outputs": [],
   "source": [
    "pip install openpyxl\n"
   ]
  },
  {
   "cell_type": "code",
   "execution_count": null,
   "metadata": {},
   "outputs": [],
   "source": [
    "# Installing modules for plotting graphs, pandas for the dataframe,numpy for data analsysis, \n",
    "# json in case I need it.\n",
    "import matplotlib.pyplot as plt\n",
    "import pandas as pd \n",
    "import numpy as np \n",
    "import json \n"
   ]
  },
  {
   "cell_type": "code",
   "execution_count": 3,
   "metadata": {},
   "outputs": [],
   "source": [
    "# use pd.read_excel() function to import excel files containing raw data from IFS into \n",
    "# pandas dataframes in the jupyter notebook.\n",
    "# Stored in separate variables for each of the dataframes: US data and Spain data (our country)\n",
    "df_US = pd.read_excel('../US.xlsx')\n",
    "df_Spain = pd.read_excel('../Spain.xlsm')\n"
   ]
  },
  {
   "cell_type": "code",
   "execution_count": null,
   "metadata": {},
   "outputs": [],
   "source": [
    "# Renaming columns of the dataframe for the US.\n",
    "df_US = df_US.rename(columns={'Unnamed: 1': 'Month series', 'Unnamed: 2':'International Reserves',\\\n",
    "                               'Unnamed: 3': 'Consumer Price Index'})\n",
    "df_US"
   ]
  },
  {
   "cell_type": "code",
   "execution_count": null,
   "metadata": {},
   "outputs": [],
   "source": [
    "# Renaming columns of the dataframe for Spain \n",
    "df_Spain = df_Spain.rename(columns = {'Unnamed: 1': 'Month series', 'Unnamed: 2': 'Industrial Production Index',\\\n",
    "'Unnamed: 3': 'Exchange Rates', 'Unnamed: 4': 'International Reserves', 'Unnamed: 5': 'Consumer Price Index' })\n",
    "df_Spain"
   ]
  },
  {
   "cell_type": "markdown",
   "metadata": {},
   "source": [
    "Spain Dataframe Variables"
   ]
  },
  {
   "cell_type": "code",
   "execution_count": 32,
   "metadata": {},
   "outputs": [],
   "source": [
    "# This is where I construct all the variables for Spain \n",
    "Spain_data = {\n",
    "    'Month series': pd.date_range(start = 'Jan 1960', periods = 372, freq = 'MS'),\n",
    "    'Exchange rate value': df_Spain['Exchange Rates'][1:],\n",
    "    'Industrial Production': df_Spain['Industrial Production Index'][1:],\n",
    "    'Consumer Price Index': df_Spain['Consumer Price Index'][1:],\n",
    "    'US Consumer Price Index': df_US['Consumer Price Index'][1:],\n",
    "    'International Reserves': df_Spain['International Reserves'][1:]\n",
    "}\n",
    "# Creating a dictionary of values from the dataframes from Spain \n",
    "df_month_series = pd.DataFrame(Spain_data)\n",
    "# Convert into pandas and then make column data points numeric \n",
    "df_month_series['Exchange rate value'] = pd.to_numeric(df_month_series['Exchange rate value'])\n",
    "df_month_series['Industrial Production'] = pd.to_numeric(df_month_series['Industrial Production'])\n",
    "df_month_series['Consumer Price Index'] = pd.to_numeric(df_month_series['Consumer Price Index'])\n",
    "df_month_series['US Consumer Price Index'] = pd.to_numeric(df_month_series['US Consumer Price Index'])\n",
    "# Convert into a pandas dataframe with month series as index\n",
    "df_month_series.set_index('Month series', inplace=True)\n",
    "# Create a column for variable Monthly growth in nominal exchange rate and then set pandas columns as variable\n",
    "# Create all monthly growth variables this way \n",
    "df_month_series['Monthly Growth in Nominal Exchange Rate %'] = df_month_series['Exchange rate value'].pct_change() * 100 \n",
    "Monthly_growth_in_Nominal_Exchange_Rate = df_month_series['Monthly Growth in Nominal Exchange Rate %']\n",
    "# Note: First year for Industrial production data is empty and thus NaN values appear\n",
    "df_month_series['Monthly Growth in Industrial Production %'] = df_month_series['Industrial Production'].pct_change() * 100\n",
    "Monthly_growth_in_Industrial_Production = df_month_series['Monthly Growth in Industrial Production %']\n",
    "# Monthly inflation as a variable - calculated with monthly % change in CPI \n",
    "df_month_series['Monthly Inflation Rate'] = df_month_series['Consumer Price Index'].pct_change() * 100\n",
    "Monthly_inflation_rate = df_month_series['Monthly Inflation Rate']\n",
    "# Real exchange rate in terms of dollars. We have nominal exchange rate for Spains currency in terms of US dollars.\n",
    "# We calculate real exchange rate in terms of dollars for Spain by multiplying nominal exchange rate with US CPI values.\n",
    "# Then dividing it by the CPI of Spain at the same time - CPI represents the price level of the countries at that time.\n",
    "df_month_series['Real exchange rate'] = (df_month_series['Exchange rate value'] * df_month_series['US Consumer Price Index'])\\\n",
    "                                         / df_month_series['Consumer Price Index']\n",
    "Real_exchange_rate = df_month_series['Real exchange rate']\n",
    "df_month_series['Monthly growth in Real exchange rate %'] = df_month_series['Real exchange rate'].pct_change() * 100\n",
    "Monthly_growth_in_real_exchange_rate = df_month_series['Monthly growth in Real exchange rate %']\n",
    "# Growth in Production versus 12 months ago \n"
   ]
  },
  {
   "cell_type": "code",
   "execution_count": null,
   "metadata": {},
   "outputs": [],
   "source": [
    "#Spain variables continue being defined over here with the growth in production versus 12 months ago \n",
    "# First 12 months have no data as the first 12 months don't have values and the last 12 by virtue of not having a next year after 1990.\n",
    "# Calculated by shifting down the column by 12 rows and then minusing it from the original position.\n",
    "df_month_series['Growth in Production over 12 months'] = df_month_series['Industrial Production'].shift(-12)\\\n",
    "      - df_month_series['Industrial Production']\n",
    "Growth_in_production_versus_12_months_ago = df_month_series['Growth in Production over 12 months']\n",
    "# Calculated variable of index value of international reserves with 1960 as the Jan as the base \n",
    "df_month_series['Index of value of international reserves'] = df_month_series['International Reserves']\\\n",
    "        / df_month_series['International Reserves'][0] * 100\n",
    "Index_of_value_of_international_reserves = df_month_series['Index of value of international reserves']\n",
    "\n"
   ]
  },
  {
   "cell_type": "markdown",
   "metadata": {},
   "source": [
    "US dataframe variables "
   ]
  },
  {
   "cell_type": "code",
   "execution_count": null,
   "metadata": {},
   "outputs": [],
   "source": [
    "# Constructing variables for the US dataframe\n"
   ]
  },
  {
   "cell_type": "code",
   "execution_count": null,
   "metadata": {},
   "outputs": [],
   "source": [
    "data = {\n",
    "    'Month series': pd.date_range(start = 'Jan 1960', periods = 372, freq = 'MS'),\n",
    "    'Exchange rate value': df_Spain['Exchange Rates'][1:]\n",
    "}\n",
    "df_month_series = pd.DataFrame(data)\n",
    "df_month_series['Exchange rate value'] = pd.to_numeric(df_month_series['Exchange rate value'][1:])\n",
    "df_month_series.set_index('Month series', inplace=True)\n",
    "df_month_series['Monthly Growth in Nominal Exchange Rate'] = df_month_series['Exchange rate value'].pct_change() * 100 \n",
    "# Plot monthly time series\n",
    "plt.figure(figsize=(10, 6))\n",
    "df_month_series['Exchange rate value'].plot(kind='line', marker='o', color='blue', linestyle='-')\n",
    "plt.title('Monthly Time Series of exchange rates')\n",
    "plt.xlabel('Month')\n",
    "plt.ylabel('Exchange rate')\n",
    "plt.grid(True)\n",
    "plt.show()"
   ]
  },
  {
   "cell_type": "code",
   "execution_count": null,
   "metadata": {},
   "outputs": [],
   "source": [
    "df_month_series.set_index('Month series', inplace=True)\n",
    "\n",
    "# Plot the monthly time series\n",
    "plt.figure(figsize=(10, 6))\n",
    "df_month_series['value'].plot(kind='line', marker='o', color='blue', linestyle='-')\n",
    "plt.title('Monthly Time Series')\n",
    "plt.xlabel('Month')\n",
    "plt.ylabel('Value')\n",
    "plt.grid(True)\n",
    "plt.show()"
   ]
  },
  {
   "cell_type": "markdown",
   "metadata": {},
   "source": [
    "This is where we construct our variables for each of the dataframes"
   ]
  },
  {
   "cell_type": "code",
   "execution_count": null,
   "metadata": {},
   "outputs": [],
   "source": [
    "#Spain's variables \n"
   ]
  },
  {
   "cell_type": "code",
   "execution_count": 6,
   "metadata": {},
   "outputs": [],
   "source": [
    "# This creates a merged dataframe that concatenates and puts Spain on top of the US dataframe\n",
    "merged_df = pd.concat([df_Spain, df_US], ignore_index=True)"
   ]
  },
  {
   "cell_type": "markdown",
   "metadata": {},
   "source": [
    "This is where we print out our merged dataframe in full "
   ]
  },
  {
   "cell_type": "code",
   "execution_count": null,
   "metadata": {},
   "outputs": [],
   "source": [
    "# Already used a line of code merged_df = merged_df.drop(373) to delete redundant row of headers for the US data\n",
    "# Used the pd.set_option in order to display all 746 rows of the merged dataframe - note can't do random numbers for this.\n",
    "# Only works for a certain few: 5, 10, all 746\n",
    "# In the merged dataframe, there is no data for the year of 1960 in Spain, there is no data at all in the first 12 months\n",
    "# Therefore, this makes interpolating the data very difficult here and we have left it blank \n",
    "# Filled in all the NaN values with '' to make it look nicer.\n",
    "# Empty columns for the US data is because we only have 2 columns of data - international reserves and CPI per the coursework instructions.\n",
    "# Any outliers were defined as being +- 3 standard deviations away from the mean of the series\n",
    "pd.set_option('display.max_rows', 746)\n",
    "merged_df = merged_df.fillna('')\n",
    "merged_df"
   ]
  },
  {
   "cell_type": "code",
   "execution_count": null,
   "metadata": {},
   "outputs": [],
   "source": []
  }
 ],
 "metadata": {
  "kernelspec": {
   "display_name": "Python 3",
   "language": "python",
   "name": "python3"
  },
  "language_info": {
   "codemirror_mode": {
    "name": "ipython",
    "version": 3
   },
   "file_extension": ".py",
   "mimetype": "text/x-python",
   "name": "python",
   "nbconvert_exporter": "python",
   "pygments_lexer": "ipython3",
   "version": "3.12.1"
  }
 },
 "nbformat": 4,
 "nbformat_minor": 2
}
