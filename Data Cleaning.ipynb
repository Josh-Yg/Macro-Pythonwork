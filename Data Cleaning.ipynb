{
 "cells": [
  {
   "cell_type": "markdown",
   "metadata": {},
   "source": [
    "# Data Cleaning for EC1B1"
   ]
  },
  {
   "cell_type": "code",
   "execution_count": null,
   "metadata": {},
   "outputs": [],
   "source": [
    "# pip install openpyxl is used to install a module that allows us to read excel files into jupyter "
   ]
  },
  {
   "cell_type": "code",
   "execution_count": null,
   "metadata": {},
   "outputs": [],
   "source": [
    "pip install openpyxl\n"
   ]
  },
  {
   "cell_type": "code",
   "execution_count": null,
   "metadata": {},
   "outputs": [],
   "source": [
    "# Installing modules for plotting graphs, pandas for the dataframe,numpy for data analsysis, \n",
    "# json in case I need it.\n",
    "import matplotlib.pyplot as plt\n",
    "import pandas as pd \n",
    "import numpy as np \n",
    "import json \n"
   ]
  },
  {
   "cell_type": "code",
   "execution_count": 60,
   "metadata": {},
   "outputs": [],
   "source": [
    "# use pd.read_excel() function to import excel files containing raw data from IFS into \n",
    "# pandas dataframes in the jupyter notebook.\n",
    "# Stored in separate variables for each of the dataframes: US data and Spain data (our country)\n",
    "df_US = pd.read_excel('../US.xlsx')\n",
    "df_Spain = pd.read_excel('../Spain.xlsm')\n"
   ]
  },
  {
   "cell_type": "code",
   "execution_count": null,
   "metadata": {},
   "outputs": [],
   "source": [
    "# Renaming columns of the dataframe for the US.\n",
    "df_US = df_US.rename(columns={'Unnamed: 1': 'Month series', 'Unnamed: 2':'International Reserves',\\\n",
    "                               'Unnamed: 3': 'Consumer Price Index'})\n",
    "df_US"
   ]
  },
  {
   "cell_type": "code",
   "execution_count": 119,
   "metadata": {},
   "outputs": [
    {
     "data": {
      "text/html": [
       "<div>\n",
       "<style scoped>\n",
       "    .dataframe tbody tr th:only-of-type {\n",
       "        vertical-align: middle;\n",
       "    }\n",
       "\n",
       "    .dataframe tbody tr th {\n",
       "        vertical-align: top;\n",
       "    }\n",
       "\n",
       "    .dataframe thead th {\n",
       "        text-align: right;\n",
       "    }\n",
       "</style>\n",
       "<table border=\"1\" class=\"dataframe\">\n",
       "  <thead>\n",
       "    <tr style=\"text-align: right;\">\n",
       "      <th></th>\n",
       "      <th>International Financial Statistics (IFS)</th>\n",
       "      <th>Month series</th>\n",
       "      <th>Industrial Production Index</th>\n",
       "      <th>Exchange Rates</th>\n",
       "      <th>International Reserves</th>\n",
       "      <th>Consumer Price Index</th>\n",
       "    </tr>\n",
       "  </thead>\n",
       "  <tbody>\n",
       "    <tr>\n",
       "      <th>0</th>\n",
       "      <td>NaN</td>\n",
       "      <td>NaN</td>\n",
       "      <td>Economic Activity, Industrial Production, Index</td>\n",
       "      <td>Exchange Rates, National Currency Per U.S. Dol...</td>\n",
       "      <td>International Reserves and Liquidity, Reserves...</td>\n",
       "      <td>Prices, Consumer Price Index, All items, Index</td>\n",
       "    </tr>\n",
       "    <tr>\n",
       "      <th>1</th>\n",
       "      <td>Spain</td>\n",
       "      <td>Jan 1960</td>\n",
       "      <td>NaN</td>\n",
       "      <td>60.0</td>\n",
       "      <td>233</td>\n",
       "      <td>2.857368</td>\n",
       "    </tr>\n",
       "    <tr>\n",
       "      <th>2</th>\n",
       "      <td>Spain</td>\n",
       "      <td>Feb 1960</td>\n",
       "      <td>NaN</td>\n",
       "      <td>60.0</td>\n",
       "      <td>253</td>\n",
       "      <td>2.855049</td>\n",
       "    </tr>\n",
       "    <tr>\n",
       "      <th>3</th>\n",
       "      <td>Spain</td>\n",
       "      <td>Mar 1960</td>\n",
       "      <td>NaN</td>\n",
       "      <td>60.0</td>\n",
       "      <td>299</td>\n",
       "      <td>2.851573</td>\n",
       "    </tr>\n",
       "    <tr>\n",
       "      <th>4</th>\n",
       "      <td>Spain</td>\n",
       "      <td>Apr 1960</td>\n",
       "      <td>NaN</td>\n",
       "      <td>60.0</td>\n",
       "      <td>326</td>\n",
       "      <td>2.853891</td>\n",
       "    </tr>\n",
       "    <tr>\n",
       "      <th>...</th>\n",
       "      <td>...</td>\n",
       "      <td>...</td>\n",
       "      <td>...</td>\n",
       "      <td>...</td>\n",
       "      <td>...</td>\n",
       "      <td>...</td>\n",
       "    </tr>\n",
       "    <tr>\n",
       "      <th>368</th>\n",
       "      <td>Spain</td>\n",
       "      <td>Aug 1990</td>\n",
       "      <td>57.138375</td>\n",
       "      <td>97.029</td>\n",
       "      <td>53227.717281</td>\n",
       "      <td>52.200576</td>\n",
       "    </tr>\n",
       "    <tr>\n",
       "      <th>369</th>\n",
       "      <td>Spain</td>\n",
       "      <td>Sep 1990</td>\n",
       "      <td>97.803577</td>\n",
       "      <td>98.467</td>\n",
       "      <td>53790.187718</td>\n",
       "      <td>52.750025</td>\n",
       "    </tr>\n",
       "    <tr>\n",
       "      <th>370</th>\n",
       "      <td>Spain</td>\n",
       "      <td>Oct 1990</td>\n",
       "      <td>100.909947</td>\n",
       "      <td>95.697</td>\n",
       "      <td>55428.040577</td>\n",
       "      <td>53.218335</td>\n",
       "    </tr>\n",
       "    <tr>\n",
       "      <th>371</th>\n",
       "      <td>Spain</td>\n",
       "      <td>Nov 1990</td>\n",
       "      <td>104.110449</td>\n",
       "      <td>93.958</td>\n",
       "      <td>56347.862332</td>\n",
       "      <td>53.165017</td>\n",
       "    </tr>\n",
       "    <tr>\n",
       "      <th>372</th>\n",
       "      <td>Spain</td>\n",
       "      <td>Dec 1990</td>\n",
       "      <td>88.202071</td>\n",
       "      <td>95.234</td>\n",
       "      <td>56004.835968</td>\n",
       "      <td>53.295997</td>\n",
       "    </tr>\n",
       "  </tbody>\n",
       "</table>\n",
       "<p>373 rows × 6 columns</p>\n",
       "</div>"
      ],
      "text/plain": [
       "    International Financial Statistics (IFS) Month series  \\\n",
       "0                                        NaN          NaN   \n",
       "1                                      Spain     Jan 1960   \n",
       "2                                      Spain     Feb 1960   \n",
       "3                                      Spain     Mar 1960   \n",
       "4                                      Spain     Apr 1960   \n",
       "..                                       ...          ...   \n",
       "368                                    Spain     Aug 1990   \n",
       "369                                    Spain     Sep 1990   \n",
       "370                                    Spain     Oct 1990   \n",
       "371                                    Spain     Nov 1990   \n",
       "372                                    Spain     Dec 1990   \n",
       "\n",
       "                         Industrial Production Index  \\\n",
       "0    Economic Activity, Industrial Production, Index   \n",
       "1                                                NaN   \n",
       "2                                                NaN   \n",
       "3                                                NaN   \n",
       "4                                                NaN   \n",
       "..                                               ...   \n",
       "368                                        57.138375   \n",
       "369                                        97.803577   \n",
       "370                                       100.909947   \n",
       "371                                       104.110449   \n",
       "372                                        88.202071   \n",
       "\n",
       "                                        Exchange Rates  \\\n",
       "0    Exchange Rates, National Currency Per U.S. Dol...   \n",
       "1                                                 60.0   \n",
       "2                                                 60.0   \n",
       "3                                                 60.0   \n",
       "4                                                 60.0   \n",
       "..                                                 ...   \n",
       "368                                             97.029   \n",
       "369                                             98.467   \n",
       "370                                             95.697   \n",
       "371                                             93.958   \n",
       "372                                             95.234   \n",
       "\n",
       "                                International Reserves  \\\n",
       "0    International Reserves and Liquidity, Reserves...   \n",
       "1                                                  233   \n",
       "2                                                  253   \n",
       "3                                                  299   \n",
       "4                                                  326   \n",
       "..                                                 ...   \n",
       "368                                       53227.717281   \n",
       "369                                       53790.187718   \n",
       "370                                       55428.040577   \n",
       "371                                       56347.862332   \n",
       "372                                       56004.835968   \n",
       "\n",
       "                               Consumer Price Index  \n",
       "0    Prices, Consumer Price Index, All items, Index  \n",
       "1                                          2.857368  \n",
       "2                                          2.855049  \n",
       "3                                          2.851573  \n",
       "4                                          2.853891  \n",
       "..                                              ...  \n",
       "368                                       52.200576  \n",
       "369                                       52.750025  \n",
       "370                                       53.218335  \n",
       "371                                       53.165017  \n",
       "372                                       53.295997  \n",
       "\n",
       "[373 rows x 6 columns]"
      ]
     },
     "execution_count": 119,
     "metadata": {},
     "output_type": "execute_result"
    }
   ],
   "source": [
    "# Renaming columns of the dataframe for Spain \n",
    "df_Spain = df_Spain.rename(columns = {'Unnamed: 1': 'Month series', 'Unnamed: 2': 'Industrial Production Index',\\\n",
    "'Unnamed: 3': 'Exchange Rates', 'Unnamed: 4': 'International Reserves', 'Unnamed: 5': 'Consumer Price Index' })\n",
    "df_Spain"
   ]
  },
  {
   "cell_type": "code",
   "execution_count": null,
   "metadata": {},
   "outputs": [],
   "source": [
    "# This is where I construct all the variables\n",
    "data = {\n",
    "    'Month series': pd.date_range(start = 'Jan 1960', periods = 372, freq = 'MS'),\n",
    "    ' Exchange rate value': df_Spain['Exchange Rates'][1:]\n",
    "}\n",
    "# Creating a dictionary of values from the dataframes from Spain \n",
    "df_month_series = pd.DataFrame(data)\n",
    "# Convert into pandas \n",
    "df_month_series['Exchange rate value'] = pd.to_numeric(df_month_series['Exchange rate value'])\n",
    "# Convert into a pandas dataframe with month series as index\n",
    "df_month_series.set_index('Month series', inplace=True)\n",
    "df_month_series['Monthly Growth in Nominal Exchange Rate'] = df_month_series['Exchange rate value'].pct_change() * 100 \n",
    "Monthly_growth_in_Nominal_Exchange_Rate = df_month_series['Monthly Growth in Nominal Exchange Rate']\n",
    "Monthly_growth_in_Nominal_Exchange_Rate\n",
    "df_month_series['Monthly Growth in Industrial Production'] = df_month_series"
   ]
  },
  {
   "cell_type": "code",
   "execution_count": null,
   "metadata": {},
   "outputs": [],
   "source": [
    "data = {\n",
    "    'Month series': pd.date_range(start = 'Jan 1960', periods = 372, freq = 'MS'),\n",
    "    'Exchange rate value': df_Spain['Exchange Rates'][1:]\n",
    "}\n",
    "df_month_series = pd.DataFrame(data)\n",
    "df_month_series['Exchange rate value'] = pd.to_numeric(df_month_series['Exchange rate value'][1:])\n",
    "df_month_series.set_index('Month series', inplace=True)\n",
    "df_month_series['Monthly Growth in Nominal Exchange Rate'] = df_month_series['Exchange Rate Value'].pct_change() * 100 \n",
    "# Plot monthly time series\n",
    "plt.figure(figsize=(10, 6))\n",
    "df_month_series['value'].plot(kind='line', marker='o', color='blue', linestyle='-')\n",
    "plt.title('Monthly Time Series')\n",
    "plt.xlabel('Month')\n",
    "plt.ylabel('Value')\n",
    "plt.grid(True)\n",
    "plt.show()"
   ]
  },
  {
   "cell_type": "code",
   "execution_count": 102,
   "metadata": {},
   "outputs": [
    {
     "data": {
      "image/png": "[encoded data removed]",
      "text/plain": [
       "<Figure size 1000x600 with 1 Axes>"
      ]
     },
     "metadata": {},
     "output_type": "display_data"
    }
   ],
   "source": [
    "df_month_series.set_index('Month series', inplace=True)\n",
    "\n",
    "# Plot the monthly time series\n",
    "plt.figure(figsize=(10, 6))\n",
    "df_month_series['value'].plot(kind='line', marker='o', color='blue', linestyle='-')\n",
    "plt.title('Monthly Time Series')\n",
    "plt.xlabel('Month')\n",
    "plt.ylabel('Value')\n",
    "plt.grid(True)\n",
    "plt.show()"
   ]
  },
  {
   "cell_type": "markdown",
   "metadata": {},
   "source": [
    "This is where we construct our variables for each of the dataframes"
   ]
  },
  {
   "cell_type": "code",
   "execution_count": null,
   "metadata": {},
   "outputs": [],
   "source": [
    "#Spain's variables \n"
   ]
  },
  {
   "cell_type": "code",
   "execution_count": 54,
   "metadata": {},
   "outputs": [],
   "source": [
    "# This creates a merged dataframe that concatenates and puts Spain on top of the US dataframe\n",
    "merged_df = pd.concat([df_Spain, df_US], ignore_index=True)"
   ]
  },
  {
   "cell_type": "markdown",
   "metadata": {},
   "source": [
    "This is where we print out our merged dataframe in full "
   ]
  },
  {
   "cell_type": "code",
   "execution_count": null,
   "metadata": {},
   "outputs": [],
   "source": [
    "# Already used a line of code merged_df = merged_df.drop(373) to delete redundant row of headers for the US data\n",
    "# Used the pd.set_option in order to display all 746 rows of the merged dataframe\n",
    "# In the merged dataframe, there is no data for the year of 1960 in Spain, there is no data at all in the first 12 months\n",
    "# Therefore, this makes interpolating the data very difficult here and we have left it blank \n",
    "# Filled in all the NaN values with '' to make it look nicer.\n",
    "# Empty columns for the US data is because we only have 2 columns of data - international reserves and CPI per the coursework instructions.\n",
    "# Any outliers were defined as being +- 3 standard deviations away from the mean of the series\n",
    "pd.set_option('display.max_rows', 10)\n",
    "merged_df = merged_df.fillna('')\n",
    "merged_df"
   ]
  },
  {
   "cell_type": "code",
   "execution_count": null,
   "metadata": {},
   "outputs": [],
   "source": []
  }
 ],
 "metadata": {
  "kernelspec": {
   "display_name": "Python 3",
   "language": "python",
   "name": "python3"
  },
  "language_info": {
   "codemirror_mode": {
    "name": "ipython",
    "version": 3
   },
   "file_extension": ".py",
   "mimetype": "text/x-python",
   "name": "python",
   "nbconvert_exporter": "python",
   "pygments_lexer": "ipython3",
   "version": "3.12.1"
  }
 },
 "nbformat": 4,
 "nbformat_minor": 2
}
